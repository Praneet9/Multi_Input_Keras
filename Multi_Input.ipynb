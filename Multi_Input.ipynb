{
 "cells": [
  {
   "cell_type": "code",
   "execution_count": 1,
   "metadata": {
    "ExecuteTime": {
     "end_time": "2019-02-05T15:32:02.940167Z",
     "start_time": "2019-02-05T15:32:02.218105Z"
    }
   },
   "outputs": [],
   "source": [
    "from sklearn.preprocessing import LabelBinarizer, MinMaxScaler\n",
    "import numpy as np\n",
    "import pandas as pd\n",
    "import glob\n",
    "import cv2\n",
    "import os"
   ]
  },
  {
   "cell_type": "code",
   "execution_count": 2,
   "metadata": {
    "ExecuteTime": {
     "end_time": "2019-02-05T15:32:02.947781Z",
     "start_time": "2019-02-05T15:32:02.942291Z"
    }
   },
   "outputs": [],
   "source": [
    "def loadHouseAttributes(inputPath):\n",
    "    cols = [\"bedrooms\", \"bathrooms\", \"area\", \"zipcode\", \"price\"]\n",
    "    df = pd.read_csv(inputPath, sep=\" \", header=None, names=cols)\n",
    "    \n",
    "    zipcodes = df['zipcode'].value_counts().keys().tolist()\n",
    "    counts = df['zipcode'].value_counts().tolist()\n",
    "    \n",
    "    for (zipcode, count) in zip(zipcodes, counts):\n",
    "        if count < 25:\n",
    "            idxs = df[df['zipcode'] == zipcode].index\n",
    "            df.drop(idxs, inplace=True)\n",
    "            \n",
    "    return df"
   ]
  },
  {
   "cell_type": "code",
   "execution_count": 3,
   "metadata": {
    "ExecuteTime": {
     "end_time": "2019-02-05T15:32:03.085524Z",
     "start_time": "2019-02-05T15:32:02.951865Z"
    }
   },
   "outputs": [],
   "source": [
    "def processHouseAttributes(df, train, test):\n",
    "    \n",
    "    continuous = ['bedrooms', 'bathrooms', 'area']\n",
    "    \n",
    "    cs = MinMaxScaler()\n",
    "    trainContinuous = cs.fit_transform(train[continuous])\n",
    "    testContinuous = cs.transform(test[continuous])\n",
    "    \n",
    "    zipBinarizer = LabelBinarizer().fit(df['zipcode'])\n",
    "    trainCategorical = zipBinarizer.transform(train['zipcode'])\n",
    "    testCategorical = zipBinarizer.transform(test['zipcode'])\n",
    "    \n",
    "    trainX = np.hstack([trainCategorical, trainContinuous])\n",
    "    testX = np.hstack([testCategorical, testContinuous])\n",
    "    \n",
    "    return (trainX, testX)"
   ]
  },
  {
   "cell_type": "code",
   "execution_count": 4,
   "metadata": {
    "ExecuteTime": {
     "end_time": "2019-02-05T15:32:03.208213Z",
     "start_time": "2019-02-05T15:32:03.092977Z"
    }
   },
   "outputs": [],
   "source": [
    "def loadHouseImages(df, inputPath):\n",
    "    \n",
    "    images = []\n",
    "    \n",
    "    for i in df.index.values:\n",
    "        \n",
    "        basePath = os.path.sep.join([inputPath, \"{}_*\".format(i+1)])\n",
    "        housePaths = sorted(list(glob.glob(basePath)))\n",
    "        \n",
    "        inputImages = []\n",
    "        outputImage = np.zeros((64, 64, 3), dtype='uint8')\n",
    "        \n",
    "        for housePath in housePaths:\n",
    "            \n",
    "            image = cv2.imread(housePath)\n",
    "            image = cv2.resize(image, (32, 32))\n",
    "            inputImages.append(image)\n",
    "            \n",
    "        outputImage[0:32, 0:32] = inputImages[0]\n",
    "        outputImage[0:32, 32:64] = inputImages[1]\n",
    "        outputImage[32:64, 32:64] = inputImages[2]\n",
    "        outputImage[32:64, 0:32] = inputImages[3]\n",
    "        \n",
    "        images.append(outputImage)\n",
    "        \n",
    "    return np.array(images)"
   ]
  },
  {
   "cell_type": "code",
   "execution_count": 5,
   "metadata": {
    "ExecuteTime": {
     "end_time": "2019-02-05T15:32:04.362971Z",
     "start_time": "2019-02-05T15:32:03.215404Z"
    }
   },
   "outputs": [
    {
     "name": "stderr",
     "output_type": "stream",
     "text": [
      "/home/praneet/envs/deeplearning/lib/python3.5/site-packages/h5py/__init__.py:36: FutureWarning: Conversion of the second argument of issubdtype from `float` to `np.floating` is deprecated. In future, it will be treated as `np.float64 == np.dtype(float).type`.\n",
      "  from ._conv import register_converters as _register_converters\n",
      "Using TensorFlow backend.\n"
     ]
    }
   ],
   "source": [
    "from keras.models import Sequential\n",
    "from keras.layers.normalization import BatchNormalization\n",
    "from keras.layers.convolutional import Conv2D\n",
    "from keras.layers.convolutional import MaxPooling2D\n",
    "from keras.layers.core import Activation\n",
    "from keras.layers.core import Dropout\n",
    "from keras.layers.core import Dense\n",
    "from keras.layers import Flatten\n",
    "from keras.layers import Input\n",
    "from keras.models import Model"
   ]
  },
  {
   "cell_type": "code",
   "execution_count": 6,
   "metadata": {
    "ExecuteTime": {
     "end_time": "2019-02-05T15:32:04.370055Z",
     "start_time": "2019-02-05T15:32:04.364790Z"
    }
   },
   "outputs": [],
   "source": [
    "def create_mlp(dim, regress=False):\n",
    "    \n",
    "    model = Sequential()\n",
    "    model.add(Dense(8, input_dim = dim, activation='relu'))\n",
    "    model.add(Dense(4, activation='relu'))\n",
    "    \n",
    "    if regress:\n",
    "        model.add(Dense(1, activation='linear'))\n",
    "        \n",
    "    return model"
   ]
  },
  {
   "cell_type": "code",
   "execution_count": 7,
   "metadata": {
    "ExecuteTime": {
     "end_time": "2019-02-05T15:32:04.555038Z",
     "start_time": "2019-02-05T15:32:04.372977Z"
    }
   },
   "outputs": [],
   "source": [
    "def create_cnn(width, height, depth, filters=(16, 32, 64), regress=False):\n",
    "    \n",
    "    inputShape = (height, width, depth)\n",
    "    chanDim = -1\n",
    "    \n",
    "    inputs = Input(shape=inputShape)\n",
    "    \n",
    "    for (i, f) in enumerate(filters):\n",
    "        \n",
    "        if i == 0:\n",
    "            x = inputs\n",
    "            \n",
    "        x = Conv2D(f, (3, 3), padding='same')(x)\n",
    "        x = Activation('relu')(x)\n",
    "        x = BatchNormalization(axis=chanDim)(x)\n",
    "        x = MaxPooling2D(pool_size=(2, 2))(x)\n",
    "        \n",
    "        x = Flatten()(x)\n",
    "        x = Dense(16)(x)\n",
    "        x = Activation(\"relu\")(x)\n",
    "        x = BatchNormalization(axis=chanDim)(x)\n",
    "        x = Dropout(0.5)(x)\n",
    "        \n",
    "        x = Dense(4)(x)\n",
    "        x = Activation('relu')(x)\n",
    "        \n",
    "        if regress:\n",
    "            x = Dense(1, activation='linear')(x)\n",
    "            \n",
    "        model = Model(inputs, x)\n",
    "        \n",
    "        return model"
   ]
  },
  {
   "cell_type": "code",
   "execution_count": 8,
   "metadata": {
    "ExecuteTime": {
     "end_time": "2019-02-05T15:32:04.707200Z",
     "start_time": "2019-02-05T15:32:04.560766Z"
    }
   },
   "outputs": [],
   "source": [
    "from sklearn.model_selection import train_test_split\n",
    "from keras.layers.core import Dense\n",
    "from keras.models import Model\n",
    "from keras.optimizers import Adam\n",
    "from keras.layers import concatenate\n",
    "import numpy as np\n",
    "import argparse\n",
    "import locale\n",
    "import os"
   ]
  },
  {
   "cell_type": "code",
   "execution_count": 9,
   "metadata": {
    "ExecuteTime": {
     "end_time": "2019-02-05T15:32:12.570207Z",
     "start_time": "2019-02-05T15:32:04.710588Z"
    }
   },
   "outputs": [],
   "source": [
    "inputPath = os.path.sep.join(['dataset', \"HousesInfo.txt\"])\n",
    "df = loadHouseAttributes(inputPath)\n",
    "\n",
    "images = loadHouseImages(df, 'dataset/Houses Dataset/')\n",
    "images = images / 255.0"
   ]
  },
  {
   "cell_type": "code",
   "execution_count": 10,
   "metadata": {
    "ExecuteTime": {
     "end_time": "2019-02-05T15:32:12.594431Z",
     "start_time": "2019-02-05T15:32:12.572326Z"
    }
   },
   "outputs": [],
   "source": [
    "split = train_test_split(df, images, test_size=0.25, random_state=42)\n",
    "(trainAttrX, testAttrX, trainImagesX, testImagesX) = split"
   ]
  },
  {
   "cell_type": "code",
   "execution_count": 11,
   "metadata": {
    "ExecuteTime": {
     "end_time": "2019-02-05T15:32:12.734076Z",
     "start_time": "2019-02-05T15:32:12.598586Z"
    }
   },
   "outputs": [],
   "source": [
    "maxPrice = trainAttrX[\"price\"].max()\n",
    "trainY = trainAttrX[\"price\"] / maxPrice\n",
    "testY = testAttrX[\"price\"] / maxPrice"
   ]
  },
  {
   "cell_type": "code",
   "execution_count": 12,
   "metadata": {
    "ExecuteTime": {
     "end_time": "2019-02-05T15:32:12.827475Z",
     "start_time": "2019-02-05T15:32:12.740451Z"
    }
   },
   "outputs": [],
   "source": [
    "(trainAttrX, testAttrX) = processHouseAttributes(df, trainAttrX, testAttrX)"
   ]
  },
  {
   "cell_type": "code",
   "execution_count": 13,
   "metadata": {
    "ExecuteTime": {
     "end_time": "2019-02-05T15:32:13.370335Z",
     "start_time": "2019-02-05T15:32:12.831396Z"
    }
   },
   "outputs": [],
   "source": [
    "mlp = create_mlp(trainAttrX.shape[1], regress=False)\n",
    "cnn = create_cnn(64, 64, 3, regress=False)"
   ]
  },
  {
   "cell_type": "code",
   "execution_count": 14,
   "metadata": {
    "ExecuteTime": {
     "end_time": "2019-02-05T15:32:13.378684Z",
     "start_time": "2019-02-05T15:32:13.372459Z"
    }
   },
   "outputs": [],
   "source": [
    "combinedInput = concatenate([mlp.output, cnn.output])"
   ]
  },
  {
   "cell_type": "code",
   "execution_count": 15,
   "metadata": {
    "ExecuteTime": {
     "end_time": "2019-02-05T15:32:13.509529Z",
     "start_time": "2019-02-05T15:32:13.380902Z"
    }
   },
   "outputs": [],
   "source": [
    "x = Dense(4, activation=\"relu\")(combinedInput)\n",
    "x = Dense(1, activation=\"linear\")(x)"
   ]
  },
  {
   "cell_type": "code",
   "execution_count": 16,
   "metadata": {
    "ExecuteTime": {
     "end_time": "2019-02-05T15:32:13.578909Z",
     "start_time": "2019-02-05T15:32:13.512457Z"
    }
   },
   "outputs": [],
   "source": [
    "model = Model(inputs=[mlp.input, cnn.input], outputs=x)"
   ]
  },
  {
   "cell_type": "code",
   "execution_count": 17,
   "metadata": {
    "ExecuteTime": {
     "end_time": "2019-02-05T15:32:13.705997Z",
     "start_time": "2019-02-05T15:32:13.586192Z"
    }
   },
   "outputs": [],
   "source": [
    "opt = Adam(lr=1e-3, decay=1e-3 / 200)"
   ]
  },
  {
   "cell_type": "code",
   "execution_count": 18,
   "metadata": {
    "ExecuteTime": {
     "end_time": "2019-02-05T15:32:13.768442Z",
     "start_time": "2019-02-05T15:32:13.709941Z"
    }
   },
   "outputs": [],
   "source": [
    "model.compile(loss=\"mean_absolute_percentage_error\", optimizer=opt)"
   ]
  },
  {
   "cell_type": "code",
   "execution_count": 19,
   "metadata": {
    "ExecuteTime": {
     "end_time": "2019-02-05T15:39:09.821515Z",
     "start_time": "2019-02-05T15:32:13.770364Z"
    }
   },
   "outputs": [
    {
     "name": "stdout",
     "output_type": "stream",
     "text": [
      "Train on 271 samples, validate on 91 samples\n",
      "Epoch 1/200\n",
      "271/271 [==============================] - 3s 10ms/step - loss: 387.2413 - val_loss: 403.6908\n",
      "Epoch 2/200\n",
      "271/271 [==============================] - 2s 7ms/step - loss: 152.7092 - val_loss: 390.3597\n",
      "Epoch 3/200\n",
      "271/271 [==============================] - 2s 7ms/step - loss: 95.9997 - val_loss: 93.6528\n",
      "Epoch 4/200\n",
      "271/271 [==============================] - 2s 7ms/step - loss: 89.0639 - val_loss: 78.8276\n",
      "Epoch 5/200\n",
      "271/271 [==============================] - 2s 7ms/step - loss: 79.1172 - val_loss: 76.8382\n",
      "Epoch 6/200\n",
      "271/271 [==============================] - 2s 7ms/step - loss: 77.2598 - val_loss: 96.7996\n",
      "Epoch 7/200\n",
      "271/271 [==============================] - 2s 7ms/step - loss: 68.1413 - val_loss: 262.6899\n",
      "Epoch 8/200\n",
      "271/271 [==============================] - 2s 7ms/step - loss: 69.7665 - val_loss: 974.3186\n",
      "Epoch 9/200\n",
      "271/271 [==============================] - 2s 7ms/step - loss: 68.7231 - val_loss: 783.3896\n",
      "Epoch 10/200\n",
      "271/271 [==============================] - 2s 7ms/step - loss: 69.2710 - val_loss: 242.8520\n",
      "Epoch 11/200\n",
      "271/271 [==============================] - 2s 7ms/step - loss: 64.3409 - val_loss: 68.4904\n",
      "Epoch 12/200\n",
      "271/271 [==============================] - 2s 7ms/step - loss: 66.1273 - val_loss: 68.7779\n",
      "Epoch 13/200\n",
      "271/271 [==============================] - 2s 7ms/step - loss: 63.2176 - val_loss: 66.5158\n",
      "Epoch 14/200\n",
      "271/271 [==============================] - 2s 7ms/step - loss: 64.7420 - val_loss: 67.1021\n",
      "Epoch 15/200\n",
      "271/271 [==============================] - 2s 7ms/step - loss: 62.9991 - val_loss: 65.6281\n",
      "Epoch 16/200\n",
      "271/271 [==============================] - 2s 7ms/step - loss: 63.1603 - val_loss: 66.0540\n",
      "Epoch 17/200\n",
      "271/271 [==============================] - 2s 7ms/step - loss: 64.5962 - val_loss: 67.7212\n",
      "Epoch 18/200\n",
      "271/271 [==============================] - 2s 7ms/step - loss: 64.5929 - val_loss: 68.9649\n",
      "Epoch 19/200\n",
      "271/271 [==============================] - 2s 8ms/step - loss: 62.4380 - val_loss: 67.8415\n",
      "Epoch 20/200\n",
      "271/271 [==============================] - 2s 7ms/step - loss: 62.5227 - val_loss: 66.8548\n",
      "Epoch 21/200\n",
      "271/271 [==============================] - 2s 7ms/step - loss: 60.6821 - val_loss: 63.8545\n",
      "Epoch 22/200\n",
      "271/271 [==============================] - 2s 7ms/step - loss: 61.8051 - val_loss: 63.6966\n",
      "Epoch 23/200\n",
      "271/271 [==============================] - 2s 7ms/step - loss: 60.9887 - val_loss: 62.0393\n",
      "Epoch 24/200\n",
      "271/271 [==============================] - 2s 7ms/step - loss: 60.3931 - val_loss: 60.6031\n",
      "Epoch 25/200\n",
      "271/271 [==============================] - 2s 8ms/step - loss: 56.6196 - val_loss: 59.8517\n",
      "Epoch 26/200\n",
      "271/271 [==============================] - 2s 8ms/step - loss: 58.0760 - val_loss: 61.6584\n",
      "Epoch 27/200\n",
      "271/271 [==============================] - 2s 7ms/step - loss: 53.9682 - val_loss: 55.1953\n",
      "Epoch 28/200\n",
      "271/271 [==============================] - 2s 8ms/step - loss: 54.0650 - val_loss: 53.8401\n",
      "Epoch 29/200\n",
      "271/271 [==============================] - 2s 8ms/step - loss: 51.2554 - val_loss: 53.1072\n",
      "Epoch 30/200\n",
      "271/271 [==============================] - 2s 8ms/step - loss: 49.1820 - val_loss: 52.2615\n",
      "Epoch 31/200\n",
      "271/271 [==============================] - 2s 8ms/step - loss: 44.8174 - val_loss: 48.4582\n",
      "Epoch 32/200\n",
      "271/271 [==============================] - 2s 8ms/step - loss: 45.9043 - val_loss: 44.7940\n",
      "Epoch 33/200\n",
      "271/271 [==============================] - 2s 8ms/step - loss: 42.0249 - val_loss: 42.5555\n",
      "Epoch 34/200\n",
      "271/271 [==============================] - 2s 8ms/step - loss: 42.6502 - val_loss: 41.4107\n",
      "Epoch 35/200\n",
      "271/271 [==============================] - 2s 8ms/step - loss: 39.5401 - val_loss: 43.8937\n",
      "Epoch 36/200\n",
      "271/271 [==============================] - 2s 8ms/step - loss: 35.9739 - val_loss: 42.4040\n",
      "Epoch 37/200\n",
      "271/271 [==============================] - 2s 8ms/step - loss: 35.2656 - val_loss: 41.4257\n",
      "Epoch 38/200\n",
      "271/271 [==============================] - 2s 8ms/step - loss: 36.9577 - val_loss: 38.3801\n",
      "Epoch 39/200\n",
      "271/271 [==============================] - 2s 8ms/step - loss: 34.3899 - val_loss: 37.7358\n",
      "Epoch 40/200\n",
      "271/271 [==============================] - 2s 8ms/step - loss: 34.7359 - val_loss: 40.7626\n",
      "Epoch 41/200\n",
      "271/271 [==============================] - 2s 8ms/step - loss: 36.3409 - val_loss: 38.0083\n",
      "Epoch 42/200\n",
      "271/271 [==============================] - 2s 8ms/step - loss: 34.9280 - val_loss: 34.4146\n",
      "Epoch 43/200\n",
      "271/271 [==============================] - 2s 8ms/step - loss: 33.0664 - val_loss: 32.9822\n",
      "Epoch 44/200\n",
      "271/271 [==============================] - 2s 8ms/step - loss: 32.3971 - val_loss: 32.3592\n",
      "Epoch 45/200\n",
      "271/271 [==============================] - 2s 8ms/step - loss: 31.1393 - val_loss: 31.5581\n",
      "Epoch 46/200\n",
      "271/271 [==============================] - 2s 8ms/step - loss: 31.3395 - val_loss: 31.2381\n",
      "Epoch 47/200\n",
      "271/271 [==============================] - 2s 8ms/step - loss: 30.8647 - val_loss: 31.7984\n",
      "Epoch 48/200\n",
      "271/271 [==============================] - 2s 8ms/step - loss: 30.8141 - val_loss: 30.4174\n",
      "Epoch 49/200\n",
      "271/271 [==============================] - 2s 8ms/step - loss: 30.9201 - val_loss: 30.5155\n",
      "Epoch 50/200\n",
      "271/271 [==============================] - 2s 8ms/step - loss: 31.7030 - val_loss: 30.4743\n",
      "Epoch 51/200\n",
      "271/271 [==============================] - 2s 8ms/step - loss: 30.1277 - val_loss: 30.4434\n",
      "Epoch 52/200\n",
      "271/271 [==============================] - 2s 8ms/step - loss: 30.1173 - val_loss: 30.0922\n",
      "Epoch 53/200\n",
      "271/271 [==============================] - 2s 8ms/step - loss: 30.8729 - val_loss: 30.8610\n",
      "Epoch 54/200\n",
      "271/271 [==============================] - 2s 8ms/step - loss: 29.7681 - val_loss: 30.1566\n",
      "Epoch 55/200\n",
      "271/271 [==============================] - 2s 8ms/step - loss: 30.0704 - val_loss: 30.2016\n",
      "Epoch 56/200\n",
      "271/271 [==============================] - 2s 8ms/step - loss: 28.5604 - val_loss: 30.5964\n",
      "Epoch 57/200\n",
      "271/271 [==============================] - 2s 8ms/step - loss: 30.6686 - val_loss: 29.1700\n",
      "Epoch 58/200\n",
      "271/271 [==============================] - 2s 8ms/step - loss: 28.1231 - val_loss: 29.2316\n",
      "Epoch 59/200\n",
      "271/271 [==============================] - 2s 8ms/step - loss: 28.4733 - val_loss: 29.1098\n",
      "Epoch 60/200\n",
      "271/271 [==============================] - 2s 8ms/step - loss: 28.3442 - val_loss: 28.8215\n",
      "Epoch 61/200\n",
      "271/271 [==============================] - 2s 8ms/step - loss: 29.6067 - val_loss: 29.1537\n",
      "Epoch 62/200\n",
      "271/271 [==============================] - 2s 8ms/step - loss: 27.7165 - val_loss: 30.2833\n",
      "Epoch 63/200\n",
      "271/271 [==============================] - 2s 8ms/step - loss: 27.1708 - val_loss: 28.7455\n",
      "Epoch 64/200\n",
      "271/271 [==============================] - 2s 8ms/step - loss: 28.5859 - val_loss: 28.9460\n",
      "Epoch 65/200\n",
      "271/271 [==============================] - 2s 8ms/step - loss: 27.6400 - val_loss: 28.3963\n",
      "Epoch 66/200\n",
      "271/271 [==============================] - 2s 8ms/step - loss: 28.1483 - val_loss: 29.6851\n",
      "Epoch 67/200\n",
      "271/271 [==============================] - 2s 8ms/step - loss: 28.1303 - val_loss: 29.1512\n",
      "Epoch 68/200\n",
      "271/271 [==============================] - 2s 8ms/step - loss: 26.8814 - val_loss: 28.8702\n",
      "Epoch 69/200\n",
      "271/271 [==============================] - 2s 8ms/step - loss: 26.5106 - val_loss: 28.9194\n",
      "Epoch 70/200\n",
      "271/271 [==============================] - 2s 8ms/step - loss: 26.8992 - val_loss: 28.2234\n",
      "Epoch 71/200\n",
      "271/271 [==============================] - 2s 8ms/step - loss: 26.0402 - val_loss: 27.5833\n",
      "Epoch 72/200\n",
      "271/271 [==============================] - 2s 8ms/step - loss: 26.2565 - val_loss: 27.9614\n",
      "Epoch 73/200\n",
      "271/271 [==============================] - 2s 8ms/step - loss: 25.6067 - val_loss: 27.4530\n",
      "Epoch 74/200\n",
      "271/271 [==============================] - 2s 8ms/step - loss: 26.1095 - val_loss: 27.9345\n",
      "Epoch 75/200\n",
      "271/271 [==============================] - 2s 8ms/step - loss: 25.8528 - val_loss: 27.6431\n",
      "Epoch 76/200\n",
      "271/271 [==============================] - 2s 8ms/step - loss: 26.3781 - val_loss: 27.8673\n",
      "Epoch 77/200\n",
      "271/271 [==============================] - 2s 8ms/step - loss: 26.4052 - val_loss: 28.0332\n",
      "Epoch 78/200\n",
      "271/271 [==============================] - 2s 8ms/step - loss: 24.2154 - val_loss: 27.4435\n",
      "Epoch 79/200\n"
     ]
    },
    {
     "name": "stdout",
     "output_type": "stream",
     "text": [
      "271/271 [==============================] - 2s 7ms/step - loss: 26.5063 - val_loss: 29.0102\n",
      "Epoch 80/200\n",
      "271/271 [==============================] - 2s 7ms/step - loss: 27.2416 - val_loss: 27.9770\n",
      "Epoch 81/200\n",
      "271/271 [==============================] - 2s 7ms/step - loss: 24.9409 - val_loss: 29.9294\n",
      "Epoch 82/200\n",
      "271/271 [==============================] - 2s 7ms/step - loss: 26.5752 - val_loss: 27.8239\n",
      "Epoch 83/200\n",
      "271/271 [==============================] - 2s 7ms/step - loss: 25.6054 - val_loss: 27.7396\n",
      "Epoch 84/200\n",
      "271/271 [==============================] - 2s 7ms/step - loss: 24.4691 - val_loss: 27.5873\n",
      "Epoch 85/200\n",
      "271/271 [==============================] - 2s 7ms/step - loss: 25.3166 - val_loss: 31.0219\n",
      "Epoch 86/200\n",
      "271/271 [==============================] - 2s 7ms/step - loss: 26.0402 - val_loss: 28.3973\n",
      "Epoch 87/200\n",
      "271/271 [==============================] - 2s 8ms/step - loss: 25.6433 - val_loss: 27.4929\n",
      "Epoch 88/200\n",
      "271/271 [==============================] - 2s 8ms/step - loss: 25.0813 - val_loss: 26.8681\n",
      "Epoch 89/200\n",
      "271/271 [==============================] - 2s 8ms/step - loss: 25.0590 - val_loss: 27.8280\n",
      "Epoch 90/200\n",
      "271/271 [==============================] - 2s 8ms/step - loss: 24.4166 - val_loss: 26.6105\n",
      "Epoch 91/200\n",
      "271/271 [==============================] - 2s 8ms/step - loss: 24.9901 - val_loss: 26.4620\n",
      "Epoch 92/200\n",
      "271/271 [==============================] - 2s 8ms/step - loss: 24.7587 - val_loss: 26.8856\n",
      "Epoch 93/200\n",
      "271/271 [==============================] - 2s 8ms/step - loss: 25.6584 - val_loss: 27.9700\n",
      "Epoch 94/200\n",
      "271/271 [==============================] - 2s 8ms/step - loss: 25.0391 - val_loss: 27.2037\n",
      "Epoch 95/200\n",
      "271/271 [==============================] - 2s 8ms/step - loss: 26.8828 - val_loss: 27.9279\n",
      "Epoch 96/200\n",
      "271/271 [==============================] - 2s 8ms/step - loss: 25.6977 - val_loss: 28.4771\n",
      "Epoch 97/200\n",
      "271/271 [==============================] - 2s 8ms/step - loss: 24.8669 - val_loss: 214.0288\n",
      "Epoch 98/200\n",
      "271/271 [==============================] - 2s 8ms/step - loss: 25.2320 - val_loss: 120.5659\n",
      "Epoch 99/200\n",
      "271/271 [==============================] - 2s 8ms/step - loss: 27.4474 - val_loss: 26.4625\n",
      "Epoch 100/200\n",
      "271/271 [==============================] - 2s 8ms/step - loss: 25.1860 - val_loss: 28.0917\n",
      "Epoch 101/200\n",
      "271/271 [==============================] - 2s 8ms/step - loss: 24.7555 - val_loss: 27.8648\n",
      "Epoch 102/200\n",
      "271/271 [==============================] - 2s 8ms/step - loss: 25.2862 - val_loss: 29.6540\n",
      "Epoch 103/200\n",
      "271/271 [==============================] - 2s 8ms/step - loss: 24.9892 - val_loss: 30.3488\n",
      "Epoch 104/200\n",
      "271/271 [==============================] - 2s 8ms/step - loss: 23.7749 - val_loss: 30.7101\n",
      "Epoch 105/200\n",
      "271/271 [==============================] - 2s 8ms/step - loss: 23.2948 - val_loss: 29.0981\n",
      "Epoch 106/200\n",
      "271/271 [==============================] - 2s 8ms/step - loss: 25.9671 - val_loss: 27.4605\n",
      "Epoch 107/200\n",
      "271/271 [==============================] - 2s 8ms/step - loss: 23.4438 - val_loss: 27.0549\n",
      "Epoch 108/200\n",
      "271/271 [==============================] - 2s 8ms/step - loss: 25.2457 - val_loss: 26.5015\n",
      "Epoch 109/200\n",
      "271/271 [==============================] - 2s 8ms/step - loss: 24.8917 - val_loss: 28.0397\n",
      "Epoch 110/200\n",
      "271/271 [==============================] - 2s 8ms/step - loss: 24.6178 - val_loss: 28.8430\n",
      "Epoch 111/200\n",
      "271/271 [==============================] - 2s 8ms/step - loss: 24.7235 - val_loss: 27.5862\n",
      "Epoch 112/200\n",
      "271/271 [==============================] - 2s 8ms/step - loss: 24.5549 - val_loss: 28.0424\n",
      "Epoch 113/200\n",
      "271/271 [==============================] - 2s 8ms/step - loss: 24.6273 - val_loss: 27.3036\n",
      "Epoch 114/200\n",
      "271/271 [==============================] - 2s 8ms/step - loss: 25.2608 - val_loss: 26.6438\n",
      "Epoch 115/200\n",
      "271/271 [==============================] - 2s 8ms/step - loss: 24.5857 - val_loss: 26.2378\n",
      "Epoch 116/200\n",
      "271/271 [==============================] - 2s 8ms/step - loss: 23.5618 - val_loss: 26.7931\n",
      "Epoch 117/200\n",
      "271/271 [==============================] - 2s 8ms/step - loss: 23.3112 - val_loss: 26.3964\n",
      "Epoch 118/200\n",
      "271/271 [==============================] - 2s 8ms/step - loss: 26.0196 - val_loss: 27.5011\n",
      "Epoch 119/200\n",
      "271/271 [==============================] - 2s 8ms/step - loss: 23.0374 - val_loss: 26.3396\n",
      "Epoch 120/200\n",
      "271/271 [==============================] - 2s 8ms/step - loss: 23.3578 - val_loss: 27.4192\n",
      "Epoch 121/200\n",
      "271/271 [==============================] - 2s 8ms/step - loss: 24.9385 - val_loss: 30.3608\n",
      "Epoch 122/200\n",
      "271/271 [==============================] - 2s 8ms/step - loss: 24.6963 - val_loss: 80.8693\n",
      "Epoch 123/200\n",
      "271/271 [==============================] - 2s 8ms/step - loss: 25.0446 - val_loss: 35.3055\n",
      "Epoch 124/200\n",
      "271/271 [==============================] - 2s 8ms/step - loss: 24.4622 - val_loss: 31.9394\n",
      "Epoch 125/200\n",
      "271/271 [==============================] - 2s 8ms/step - loss: 25.7815 - val_loss: 28.1081\n",
      "Epoch 126/200\n",
      "271/271 [==============================] - 2s 8ms/step - loss: 24.9111 - val_loss: 28.3525\n",
      "Epoch 127/200\n",
      "271/271 [==============================] - 2s 8ms/step - loss: 26.9562 - val_loss: 28.5060\n",
      "Epoch 128/200\n",
      "271/271 [==============================] - 2s 8ms/step - loss: 25.1792 - val_loss: 26.9582\n",
      "Epoch 129/200\n",
      "271/271 [==============================] - 2s 8ms/step - loss: 25.0229 - val_loss: 27.1673\n",
      "Epoch 130/200\n",
      "271/271 [==============================] - 2s 8ms/step - loss: 24.4434 - val_loss: 27.2412\n",
      "Epoch 131/200\n",
      "271/271 [==============================] - 2s 8ms/step - loss: 23.8441 - val_loss: 31.5030\n",
      "Epoch 132/200\n",
      "271/271 [==============================] - 2s 8ms/step - loss: 24.4417 - val_loss: 27.5241\n",
      "Epoch 133/200\n",
      "271/271 [==============================] - 2s 8ms/step - loss: 24.7168 - val_loss: 27.1021\n",
      "Epoch 134/200\n",
      "271/271 [==============================] - 2s 8ms/step - loss: 23.7971 - val_loss: 26.9976\n",
      "Epoch 135/200\n",
      "271/271 [==============================] - 2s 8ms/step - loss: 23.6692 - val_loss: 27.0557\n",
      "Epoch 136/200\n",
      "271/271 [==============================] - 2s 8ms/step - loss: 23.7179 - val_loss: 27.1535\n",
      "Epoch 137/200\n",
      "271/271 [==============================] - 2s 8ms/step - loss: 24.9752 - val_loss: 26.2954\n",
      "Epoch 138/200\n",
      "271/271 [==============================] - 2s 8ms/step - loss: 22.4195 - val_loss: 27.0265\n",
      "Epoch 139/200\n",
      "271/271 [==============================] - 2s 8ms/step - loss: 24.1898 - val_loss: 27.6191\n",
      "Epoch 140/200\n",
      "271/271 [==============================] - 2s 8ms/step - loss: 23.4386 - val_loss: 28.1352\n",
      "Epoch 141/200\n",
      "271/271 [==============================] - 2s 8ms/step - loss: 24.2128 - val_loss: 29.5407\n",
      "Epoch 142/200\n",
      "271/271 [==============================] - 2s 8ms/step - loss: 24.0617 - val_loss: 26.7982\n",
      "Epoch 143/200\n",
      "271/271 [==============================] - 2s 8ms/step - loss: 24.0697 - val_loss: 26.6599\n",
      "Epoch 144/200\n",
      "271/271 [==============================] - 2s 8ms/step - loss: 23.0788 - val_loss: 26.9514\n",
      "Epoch 145/200\n",
      "271/271 [==============================] - 2s 8ms/step - loss: 22.4722 - val_loss: 27.2776\n",
      "Epoch 146/200\n",
      "271/271 [==============================] - 2s 8ms/step - loss: 23.8168 - val_loss: 27.3842\n",
      "Epoch 147/200\n",
      "271/271 [==============================] - 2s 8ms/step - loss: 24.2001 - val_loss: 26.9567\n",
      "Epoch 148/200\n",
      "271/271 [==============================] - 2s 8ms/step - loss: 23.3591 - val_loss: 26.7128\n",
      "Epoch 149/200\n",
      "271/271 [==============================] - 2s 8ms/step - loss: 22.3690 - val_loss: 26.6241\n",
      "Epoch 150/200\n",
      "271/271 [==============================] - 2s 8ms/step - loss: 21.6699 - val_loss: 26.7888\n",
      "Epoch 151/200\n",
      "271/271 [==============================] - 2s 8ms/step - loss: 22.7699 - val_loss: 27.8945\n",
      "Epoch 152/200\n",
      "271/271 [==============================] - 2s 8ms/step - loss: 24.3038 - val_loss: 30.4651\n",
      "Epoch 153/200\n",
      "271/271 [==============================] - 2s 8ms/step - loss: 22.3239 - val_loss: 27.4783\n",
      "Epoch 154/200\n",
      "271/271 [==============================] - 2s 8ms/step - loss: 22.0306 - val_loss: 27.9499\n",
      "Epoch 155/200\n",
      "271/271 [==============================] - 2s 8ms/step - loss: 22.5080 - val_loss: 27.0469\n",
      "Epoch 156/200\n",
      "271/271 [==============================] - 2s 8ms/step - loss: 22.8950 - val_loss: 28.0351\n",
      "Epoch 157/200\n"
     ]
    },
    {
     "name": "stdout",
     "output_type": "stream",
     "text": [
      "271/271 [==============================] - 2s 7ms/step - loss: 21.7530 - val_loss: 28.1577\n",
      "Epoch 158/200\n",
      "271/271 [==============================] - 2s 7ms/step - loss: 21.8505 - val_loss: 27.1567\n",
      "Epoch 159/200\n",
      "271/271 [==============================] - 2s 7ms/step - loss: 21.7350 - val_loss: 27.0707\n",
      "Epoch 160/200\n",
      "271/271 [==============================] - 2s 7ms/step - loss: 23.1395 - val_loss: 27.1502\n",
      "Epoch 161/200\n",
      "271/271 [==============================] - 2s 7ms/step - loss: 21.5551 - val_loss: 28.9963\n",
      "Epoch 162/200\n",
      "271/271 [==============================] - 2s 8ms/step - loss: 22.7337 - val_loss: 28.8399\n",
      "Epoch 163/200\n",
      "271/271 [==============================] - 2s 7ms/step - loss: 22.1793 - val_loss: 29.7456\n",
      "Epoch 164/200\n",
      "271/271 [==============================] - 2s 7ms/step - loss: 23.2807 - val_loss: 27.1080\n",
      "Epoch 165/200\n",
      "271/271 [==============================] - 2s 7ms/step - loss: 22.2932 - val_loss: 27.0398\n",
      "Epoch 166/200\n",
      "271/271 [==============================] - 2s 8ms/step - loss: 21.7881 - val_loss: 27.5978\n",
      "Epoch 167/200\n",
      "271/271 [==============================] - 2s 8ms/step - loss: 20.9025 - val_loss: 28.2714\n",
      "Epoch 168/200\n",
      "271/271 [==============================] - 2s 8ms/step - loss: 22.4628 - val_loss: 27.4898\n",
      "Epoch 169/200\n",
      "271/271 [==============================] - 2s 8ms/step - loss: 21.7141 - val_loss: 28.3940\n",
      "Epoch 170/200\n",
      "271/271 [==============================] - 2s 8ms/step - loss: 21.7506 - val_loss: 27.5969\n",
      "Epoch 171/200\n",
      "271/271 [==============================] - 2s 8ms/step - loss: 22.8568 - val_loss: 163.4002\n",
      "Epoch 172/200\n",
      "271/271 [==============================] - 2s 8ms/step - loss: 21.4136 - val_loss: 27.1475\n",
      "Epoch 173/200\n",
      "271/271 [==============================] - 2s 8ms/step - loss: 21.8622 - val_loss: 27.0233\n",
      "Epoch 174/200\n",
      "271/271 [==============================] - 2s 8ms/step - loss: 22.3558 - val_loss: 26.8200\n",
      "Epoch 175/200\n",
      "271/271 [==============================] - 2s 8ms/step - loss: 21.2933 - val_loss: 28.1989\n",
      "Epoch 176/200\n",
      "271/271 [==============================] - 2s 8ms/step - loss: 21.7705 - val_loss: 27.5896\n",
      "Epoch 177/200\n",
      "271/271 [==============================] - 2s 8ms/step - loss: 21.4368 - val_loss: 27.3739\n",
      "Epoch 178/200\n",
      "271/271 [==============================] - 2s 8ms/step - loss: 20.6095 - val_loss: 28.1065\n",
      "Epoch 179/200\n",
      "271/271 [==============================] - 2s 8ms/step - loss: 21.9147 - val_loss: 27.2406\n",
      "Epoch 180/200\n",
      "271/271 [==============================] - 2s 8ms/step - loss: 23.5756 - val_loss: 27.9295\n",
      "Epoch 181/200\n",
      "271/271 [==============================] - 2s 8ms/step - loss: 21.2043 - val_loss: 28.4146\n",
      "Epoch 182/200\n",
      "271/271 [==============================] - 2s 8ms/step - loss: 22.2389 - val_loss: 31.5923\n",
      "Epoch 183/200\n",
      "271/271 [==============================] - 2s 8ms/step - loss: 22.1425 - val_loss: 28.2370\n",
      "Epoch 184/200\n",
      "271/271 [==============================] - 2s 8ms/step - loss: 21.4881 - val_loss: 29.9046\n",
      "Epoch 185/200\n",
      "271/271 [==============================] - 2s 8ms/step - loss: 23.8668 - val_loss: 27.6106\n",
      "Epoch 186/200\n",
      "271/271 [==============================] - 2s 8ms/step - loss: 21.0299 - val_loss: 33.1470\n",
      "Epoch 187/200\n",
      "271/271 [==============================] - 2s 8ms/step - loss: 22.7599 - val_loss: 27.4507\n",
      "Epoch 188/200\n",
      "271/271 [==============================] - 2s 8ms/step - loss: 21.1294 - val_loss: 27.3118\n",
      "Epoch 189/200\n",
      "271/271 [==============================] - 2s 8ms/step - loss: 20.8643 - val_loss: 28.0978\n",
      "Epoch 190/200\n",
      "271/271 [==============================] - 2s 8ms/step - loss: 20.5152 - val_loss: 28.7565\n",
      "Epoch 191/200\n",
      "271/271 [==============================] - 2s 8ms/step - loss: 21.5126 - val_loss: 27.0079\n",
      "Epoch 192/200\n",
      "271/271 [==============================] - 2s 8ms/step - loss: 21.5684 - val_loss: 27.3833\n",
      "Epoch 193/200\n",
      "271/271 [==============================] - 2s 8ms/step - loss: 20.9230 - val_loss: 195.7217\n",
      "Epoch 194/200\n",
      "271/271 [==============================] - 2s 8ms/step - loss: 23.7176 - val_loss: 29.5310\n",
      "Epoch 195/200\n",
      "271/271 [==============================] - 2s 8ms/step - loss: 24.7860 - val_loss: 28.7844\n",
      "Epoch 196/200\n",
      "271/271 [==============================] - 2s 8ms/step - loss: 21.9744 - val_loss: 29.3022\n",
      "Epoch 197/200\n",
      "271/271 [==============================] - 2s 8ms/step - loss: 21.1387 - val_loss: 28.1343\n",
      "Epoch 198/200\n",
      "271/271 [==============================] - 2s 8ms/step - loss: 23.7231 - val_loss: 28.1352\n",
      "Epoch 199/200\n",
      "271/271 [==============================] - 2s 8ms/step - loss: 21.6166 - val_loss: 27.2759\n",
      "Epoch 200/200\n",
      "271/271 [==============================] - 2s 8ms/step - loss: 22.5498 - val_loss: 28.2387\n"
     ]
    },
    {
     "data": {
      "text/plain": [
       "<keras.callbacks.History at 0x7fa2780c4208>"
      ]
     },
     "execution_count": 19,
     "metadata": {},
     "output_type": "execute_result"
    }
   ],
   "source": [
    "model.fit([trainAttrX, trainImagesX], trainY,\n",
    "          validation_data=([testAttrX, testImagesX], testY),\n",
    "          epochs=200, batch_size=8)"
   ]
  },
  {
   "cell_type": "code",
   "execution_count": 20,
   "metadata": {
    "ExecuteTime": {
     "end_time": "2019-02-05T15:40:19.869497Z",
     "start_time": "2019-02-05T15:40:19.535767Z"
    }
   },
   "outputs": [],
   "source": [
    "preds = model.predict([testAttrX, testImagesX])"
   ]
  },
  {
   "cell_type": "code",
   "execution_count": 22,
   "metadata": {
    "ExecuteTime": {
     "end_time": "2019-02-05T15:41:45.637399Z",
     "start_time": "2019-02-05T15:41:45.616170Z"
    }
   },
   "outputs": [
    {
     "name": "stdout",
     "output_type": "stream",
     "text": [
      "[INFO] avg. house price: $533,388.27, std house price: $493,403.08\n",
      "[INFO] mean: 28.24%, std: 21.57%\n"
     ]
    }
   ],
   "source": [
    "diff = preds.flatten() - testY\n",
    "percentDiff = (diff / testY) * 100\n",
    "absPercentDiff = np.abs(percentDiff)\n",
    "\n",
    "# compute the mean and standard deviation of the absolute percentage\n",
    "# difference\n",
    "mean = np.mean(absPercentDiff)\n",
    "std = np.std(absPercentDiff)\n",
    " \n",
    "# finally, show some statistics on our model\n",
    "locale.setlocale(locale.LC_ALL, \"en_US.UTF-8\")\n",
    "print(\"[INFO] avg. house price: {}, std house price: {}\".format(\n",
    "    locale.currency(df[\"price\"].mean(), grouping=True),\n",
    "    locale.currency(df[\"price\"].std(), grouping=True)))\n",
    "print(\"[INFO] mean: {:.2f}%, std: {:.2f}%\".format(mean, std))"
   ]
  },
  {
   "cell_type": "code",
   "execution_count": null,
   "metadata": {},
   "outputs": [],
   "source": []
  }
 ],
 "metadata": {
  "kernelspec": {
   "display_name": "Python 3",
   "language": "python",
   "name": "python3"
  },
  "language_info": {
   "codemirror_mode": {
    "name": "ipython",
    "version": 3
   },
   "file_extension": ".py",
   "mimetype": "text/x-python",
   "name": "python",
   "nbconvert_exporter": "python",
   "pygments_lexer": "ipython3",
   "version": "3.5.2"
  },
  "varInspector": {
   "cols": {
    "lenName": 16,
    "lenType": 16,
    "lenVar": 40
   },
   "kernels_config": {
    "python": {
     "delete_cmd_postfix": "",
     "delete_cmd_prefix": "del ",
     "library": "var_list.py",
     "varRefreshCmd": "print(var_dic_list())"
    },
    "r": {
     "delete_cmd_postfix": ") ",
     "delete_cmd_prefix": "rm(",
     "library": "var_list.r",
     "varRefreshCmd": "cat(var_dic_list()) "
    }
   },
   "types_to_exclude": [
    "module",
    "function",
    "builtin_function_or_method",
    "instance",
    "_Feature"
   ],
   "window_display": false
  }
 },
 "nbformat": 4,
 "nbformat_minor": 2
}
